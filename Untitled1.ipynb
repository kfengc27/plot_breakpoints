{
 "cells": [
  {
   "cell_type": "code",
   "execution_count": null,
   "id": "0ec91be6",
   "metadata": {},
   "outputs": [],
   "source": [
    "print(\"Hrllo\")"
   ]
  }
 ],
 "metadata": {
  "kernelspec": {
   "display_name": "Python 3 (ipykernel)",
   "language": "python",
   "name": "python3"
  }
 },
 "nbformat": 4,
 "nbformat_minor": 5
}
