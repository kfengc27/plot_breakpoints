{
 "cells": [
  {
   "cell_type": "code",
   "execution_count": 1,
   "id": "a43b7b9c",
   "metadata": {},
   "outputs": [],
   "source": [
    "import numpy as np\n",
    "import pwlf\n",
    "from sklearn.model_selection import KFold\n",
    "from sklearn.metrics import mean_squared_error, mean_absolute_error\n",
    "\n",
    "import numpy as np\n",
    "import matplotlib.pyplot as plt\n",
    "import pandas as pd"
   ]
  },
  {
   "cell_type": "code",
   "execution_count": 2,
   "id": "f4e14338",
   "metadata": {},
   "outputs": [],
   "source": [
    "input_file = \"input_file/bootstrap.csv\" #Input data \n",
    "criterion_set = [\"BIC\",\"AIC\",\"CV_MSE\",\"R2_adj\"]\n",
    "select_criterion = criterion_set[1]"
   ]
  },
  {
   "cell_type": "code",
   "execution_count": 3,
   "id": "48c6a57c",
   "metadata": {},
   "outputs": [],
   "source": [
    "df_composer = pd.read_csv(input_file)\n",
    "# Prepare the data for pwlf\n",
    "x = df_composer['accumulative_raw'].values\n",
    "y = df_composer['complexity_raw'].values"
   ]
  },
  {
   "cell_type": "markdown",
   "id": "fc63361a",
   "metadata": {},
   "source": [
    "### fit model and return the metrics"
   ]
  },
  {
   "cell_type": "code",
   "execution_count": 4,
   "id": "2a2e3534",
   "metadata": {},
   "outputs": [],
   "source": [
    "def fit_model(X, Y, m, cv_splits=5, random_state=42, is_fast=False):\n",
    "    \"\"\"拟合 m 段并计算各类指标\"\"\"\n",
    "    mdl = pwlf.PiecewiseLinFit(X, Y)\n",
    "    if is_fast == False:\n",
    "        breaks = mdl.fit(m) \n",
    "    else: \n",
    "        breaks = mdl.fastfit(m) \n",
    "    y_hat = mdl.predict(X)\n",
    "\n",
    "    n   = len(Y)\n",
    "    rss = float(np.sum((Y - y_hat)**2))\n",
    "    mse = rss / n \n",
    "    mae = float(mean_absolute_error(Y, y_hat)) #Mean Absolut Error \n",
    "    tss = float(np.sum((Y - np.mean(Y))**2)) #Total Sum of Squares, TSS\n",
    "    r2  = 1 - rss / tss if tss > 0 else np.nan\n",
    "\n",
    "    # 参数个数惩罚：常用近似 k = 2*m（斜率/截距 + 断点自由度）\n",
    "    k   = 2 * m\n",
    "    aic = n * np.log(mse) + 2 * k #在保证模型拟合数据的同时，尽量避免模型过于复杂（overfitting）。\n",
    "    bic = n * np.log(mse) + k * np.log(n) #在拟合效果和模型复杂度之间做权衡，但 比 AIC 惩罚更严格。\n",
    "    r2_adj = 1 - ((rss/(n - k)) / (tss/(n - 1))) if (n - k) > 0 and (tss > 0) else np.nan\n",
    "\n",
    "    # 交叉验证 MSE\n",
    "    kf = KFold(n_splits=cv_splits, shuffle=True, random_state=random_state)\n",
    "    cv_mses = []\n",
    "    for tr, te in kf.split(X):\n",
    "        Xtr, Ytr = X[tr], Y[tr]\n",
    "        Xte, Yte = X[te], Y[te]\n",
    "        mdl_cv = pwlf.PiecewiseLinFit(Xtr, Ytr)\n",
    "        mdl_cv.fit(m)\n",
    "        Ypred = mdl_cv.predict(Xte)\n",
    "        cv_mses.append(mean_squared_error(Yte, Ypred))\n",
    "    cv_mse = float(np.mean(cv_mses))\n",
    "\n",
    "    return {\n",
    "        \"m\": m,\n",
    "        \"breaks\": breaks,\n",
    "        \"train_MSE\": mse,\n",
    "        \"train_MAE\": mae,\n",
    "        \"R2\": r2,\n",
    "        \"R2_adj\": r2_adj,\n",
    "        \"AIC\": aic,\n",
    "        \"BIC\": bic,\n",
    "        \"CV_MSE\": cv_mse,\n",
    "    }"
   ]
  },
  {
   "cell_type": "markdown",
   "id": "db3e1c85",
   "metadata": {},
   "source": [
    "### Evaluate the segments have the best metrics"
   ]
  },
  {
   "cell_type": "code",
   "execution_count": 5,
   "id": "dffd2603",
   "metadata": {},
   "outputs": [],
   "source": [
    "def evaluate_all_segments(X, Y, min_m=2, max_m=40, criterion=\"BIC\",\n",
    "                          cv_splits=5, random_state=42, early_stop=True, is_fast = False):\n",
    "    \"\"\"\n",
    "    遍历分段数，返回每个 m 的指标，并根据 criterion 选最佳。\n",
    "    criterion ∈ {\"BIC\",\"AIC\",\"CV_MSE\",\"R2_adj\"}（BIC 越小越好；R2_adj 越大越好）\n",
    "    \"\"\"\n",
    "    X = np.asarray(X).reshape(-1)\n",
    "    Y = np.asarray(Y).reshape(-1)\n",
    "    n = len(Y)\n",
    "\n",
    "    # 基本可行性限制：至少保证每段有≥2个点（保守些）\n",
    "    max_feasible = max(min(max_m, n // 2), min_m)\n",
    "    ms = list(range(min_m, max_feasible + 1))\n",
    "\n",
    "    results = []\n",
    "    for m in ms:\n",
    "        try:\n",
    "            res = fit_model(X, Y, m, cv_splits=cv_splits, random_state=random_state, is_fast = is_fast)\n",
    "            results.append(res)\n",
    "        except Exception as e:\n",
    "            # 若某些 m 因数据分布问题无法拟合，跳过\n",
    "            results.append({\"m\": m, \"error\": str(e)})\n",
    "\n",
    "        # 简单的提前停止：如果 BIC 相比上一段明显变差且连续两次上升，可提前结束\n",
    "        if early_stop and criterion.upper() == \"BIC\" and len(results) >= 3:\n",
    "            last_three = [r for r in results[-3:] if \"BIC\" in r]\n",
    "            if len(last_three) == 3:\n",
    "                if last_three[2][\"BIC\"] > last_three[1][\"BIC\"] > last_three[0][\"BIC\"]:\n",
    "                    break\n",
    "\n",
    "    # 选最优\n",
    "    valid = [r for r in results if \"error\" not in r]\n",
    "    if not valid:\n",
    "        raise RuntimeError(\"没有成功的拟合结果，请检查数据或放宽可行范围。\")\n",
    "\n",
    "    crit = criterion.upper()\n",
    "\n",
    "    if crit in (\"BIC\", \"AIC\", \"CV_MSE\"):\n",
    "        key = crit\n",
    "        best = min(valid, key=lambda r: r[key])\n",
    "    elif crit == \"R2_ADJ\":\n",
    "        key = \"R2_adj\"\n",
    "        best = max(valid, key=lambda r: (r[key] if r[key] is not np.nan else -np.inf))\n",
    "    else:\n",
    "        raise ValueError(\"criterion should be one of BIC / AIC / CV_MSE / R2_adj\")\n",
    "\n",
    "    # 打印摘要\n",
    "    print(\"=== Summary ===\")\n",
    "    for r in valid:\n",
    "        print(f\"m={r['m']:>2} | BIC={r['BIC']:.3f} | AIC={r['AIC']:.3f} | \"\n",
    "              f\"CV_MSE={r['CV_MSE']:.6f} | R2_adj={r['R2_adj']:.4f} | \"\n",
    "              f\"MSE={r['train_MSE']:.6f} | MAE={r['train_MAE']:.6f} | \"\n",
    "              f\"breaks={np.round(r['breaks'],3)}\")\n",
    "\n",
    "    print(f\"\\n✅ Best by {criterion}: m={best['m']}, breaks={np.round(best['breaks'], 6)}\")\n",
    "    return {\"all\": results, \"best\": best}\n"
   ]
  },
  {
   "cell_type": "code",
   "execution_count": 6,
   "id": "2b28201b",
   "metadata": {},
   "outputs": [],
   "source": [
    "# Prepare the data for pwlf\n",
    "x = df_composer['accumulative_raw'].values\n",
    "y = df_composer['complexity_raw'].values"
   ]
  },
  {
   "cell_type": "code",
   "execution_count": 7,
   "id": "0db08073",
   "metadata": {},
   "outputs": [
    {
     "ename": "KeyboardInterrupt",
     "evalue": "",
     "output_type": "error",
     "traceback": [
      "\u001b[0;31m---------------------------------------------------------------------------\u001b[0m",
      "\u001b[0;31mKeyboardInterrupt\u001b[0m                         Traceback (most recent call last)",
      "Input \u001b[0;32mIn [7]\u001b[0m, in \u001b[0;36m<cell line: 1>\u001b[0;34m()\u001b[0m\n\u001b[0;32m----> 1\u001b[0m results \u001b[38;5;241m=\u001b[39m \u001b[43mevaluate_all_segments\u001b[49m\u001b[43m(\u001b[49m\u001b[43mx\u001b[49m\u001b[43m,\u001b[49m\u001b[43m \u001b[49m\u001b[43my\u001b[49m\u001b[43m,\u001b[49m\u001b[43m \u001b[49m\u001b[43mmin_m\u001b[49m\u001b[38;5;241;43m=\u001b[39;49m\u001b[38;5;241;43m2\u001b[39;49m\u001b[43m,\u001b[49m\u001b[43m \u001b[49m\u001b[43mmax_m\u001b[49m\u001b[38;5;241;43m=\u001b[39;49m\u001b[38;5;241;43m15\u001b[39;49m\u001b[43m,\u001b[49m\u001b[43m \u001b[49m\u001b[43mcriterion\u001b[49m\u001b[38;5;241;43m=\u001b[39;49m\u001b[43mselect_criterion\u001b[49m\u001b[43m,\u001b[49m\u001b[43mis_fast\u001b[49m\u001b[38;5;241;43m=\u001b[39;49m\u001b[38;5;28;43;01mFalse\u001b[39;49;00m\u001b[43m)\u001b[49m\n",
      "Input \u001b[0;32mIn [5]\u001b[0m, in \u001b[0;36mevaluate_all_segments\u001b[0;34m(X, Y, min_m, max_m, criterion, cv_splits, random_state, early_stop, is_fast)\u001b[0m\n\u001b[1;32m     16\u001b[0m \u001b[38;5;28;01mfor\u001b[39;00m m \u001b[38;5;129;01min\u001b[39;00m ms:\n\u001b[1;32m     17\u001b[0m     \u001b[38;5;28;01mtry\u001b[39;00m:\n\u001b[0;32m---> 18\u001b[0m         res \u001b[38;5;241m=\u001b[39m \u001b[43mfit_model\u001b[49m\u001b[43m(\u001b[49m\u001b[43mX\u001b[49m\u001b[43m,\u001b[49m\u001b[43m \u001b[49m\u001b[43mY\u001b[49m\u001b[43m,\u001b[49m\u001b[43m \u001b[49m\u001b[43mm\u001b[49m\u001b[43m,\u001b[49m\u001b[43m \u001b[49m\u001b[43mcv_splits\u001b[49m\u001b[38;5;241;43m=\u001b[39;49m\u001b[43mcv_splits\u001b[49m\u001b[43m,\u001b[49m\u001b[43m \u001b[49m\u001b[43mrandom_state\u001b[49m\u001b[38;5;241;43m=\u001b[39;49m\u001b[43mrandom_state\u001b[49m\u001b[43m,\u001b[49m\u001b[43m \u001b[49m\u001b[43mis_fast\u001b[49m\u001b[43m \u001b[49m\u001b[38;5;241;43m=\u001b[39;49m\u001b[43m \u001b[49m\u001b[43mis_fast\u001b[49m\u001b[43m)\u001b[49m\n\u001b[1;32m     19\u001b[0m         results\u001b[38;5;241m.\u001b[39mappend(res)\n\u001b[1;32m     20\u001b[0m     \u001b[38;5;28;01mexcept\u001b[39;00m \u001b[38;5;167;01mException\u001b[39;00m \u001b[38;5;28;01mas\u001b[39;00m e:\n\u001b[1;32m     21\u001b[0m         \u001b[38;5;66;03m# 若某些 m 因数据分布问题无法拟合，跳过\u001b[39;00m\n",
      "Input \u001b[0;32mIn [4]\u001b[0m, in \u001b[0;36mfit_model\u001b[0;34m(X, Y, m, cv_splits, random_state, is_fast)\u001b[0m\n\u001b[1;32m      3\u001b[0m mdl \u001b[38;5;241m=\u001b[39m pwlf\u001b[38;5;241m.\u001b[39mPiecewiseLinFit(X, Y)\n\u001b[1;32m      4\u001b[0m \u001b[38;5;28;01mif\u001b[39;00m is_fast \u001b[38;5;241m==\u001b[39m \u001b[38;5;28;01mFalse\u001b[39;00m:\n\u001b[0;32m----> 5\u001b[0m     breaks \u001b[38;5;241m=\u001b[39m \u001b[43mmdl\u001b[49m\u001b[38;5;241;43m.\u001b[39;49m\u001b[43mfit\u001b[49m\u001b[43m(\u001b[49m\u001b[43mm\u001b[49m\u001b[43m)\u001b[49m \n\u001b[1;32m      6\u001b[0m \u001b[38;5;28;01melse\u001b[39;00m: \n\u001b[1;32m      7\u001b[0m     breaks \u001b[38;5;241m=\u001b[39m mdl\u001b[38;5;241m.\u001b[39mfastfit(m) \n",
      "File \u001b[0;32m~/opt/anaconda3/lib/python3.9/site-packages/pwlf/pwlf.py:863\u001b[0m, in \u001b[0;36mPiecewiseLinFit.fit\u001b[0;34m(self, n_segments, x_c, y_c, bounds, **kwargs)\u001b[0m\n\u001b[1;32m    861\u001b[0m \u001b[38;5;66;03m# run the optimization\u001b[39;00m\n\u001b[1;32m    862\u001b[0m \u001b[38;5;28;01mif\u001b[39;00m \u001b[38;5;28mlen\u001b[39m(kwargs) \u001b[38;5;241m==\u001b[39m \u001b[38;5;241m0\u001b[39m:\n\u001b[0;32m--> 863\u001b[0m     res \u001b[38;5;241m=\u001b[39m \u001b[43mdifferential_evolution\u001b[49m\u001b[43m(\u001b[49m\n\u001b[1;32m    864\u001b[0m \u001b[43m        \u001b[49m\u001b[43mmin_function\u001b[49m\u001b[43m,\u001b[49m\n\u001b[1;32m    865\u001b[0m \u001b[43m        \u001b[49m\u001b[43mbounds\u001b[49m\u001b[43m,\u001b[49m\n\u001b[1;32m    866\u001b[0m \u001b[43m        \u001b[49m\u001b[43mstrategy\u001b[49m\u001b[38;5;241;43m=\u001b[39;49m\u001b[38;5;124;43m\"\u001b[39;49m\u001b[38;5;124;43mbest1bin\u001b[39;49m\u001b[38;5;124;43m\"\u001b[39;49m\u001b[43m,\u001b[49m\n\u001b[1;32m    867\u001b[0m \u001b[43m        \u001b[49m\u001b[43mmaxiter\u001b[49m\u001b[38;5;241;43m=\u001b[39;49m\u001b[38;5;241;43m1000\u001b[39;49m\u001b[43m,\u001b[49m\n\u001b[1;32m    868\u001b[0m \u001b[43m        \u001b[49m\u001b[43mpopsize\u001b[49m\u001b[38;5;241;43m=\u001b[39;49m\u001b[38;5;241;43m50\u001b[39;49m\u001b[43m,\u001b[49m\n\u001b[1;32m    869\u001b[0m \u001b[43m        \u001b[49m\u001b[43mtol\u001b[49m\u001b[38;5;241;43m=\u001b[39;49m\u001b[38;5;241;43m1e-3\u001b[39;49m\u001b[43m,\u001b[49m\n\u001b[1;32m    870\u001b[0m \u001b[43m        \u001b[49m\u001b[43mmutation\u001b[49m\u001b[38;5;241;43m=\u001b[39;49m\u001b[43m(\u001b[49m\u001b[38;5;241;43m0.5\u001b[39;49m\u001b[43m,\u001b[49m\u001b[43m \u001b[49m\u001b[38;5;241;43m1\u001b[39;49m\u001b[43m)\u001b[49m\u001b[43m,\u001b[49m\n\u001b[1;32m    871\u001b[0m \u001b[43m        \u001b[49m\u001b[43mrecombination\u001b[49m\u001b[38;5;241;43m=\u001b[39;49m\u001b[38;5;241;43m0.7\u001b[39;49m\u001b[43m,\u001b[49m\n\u001b[1;32m    872\u001b[0m \u001b[43m        \u001b[49m\u001b[43mseed\u001b[49m\u001b[38;5;241;43m=\u001b[39;49m\u001b[38;5;28;43;01mNone\u001b[39;49;00m\u001b[43m,\u001b[49m\n\u001b[1;32m    873\u001b[0m \u001b[43m        \u001b[49m\u001b[43mcallback\u001b[49m\u001b[38;5;241;43m=\u001b[39;49m\u001b[38;5;28;43;01mNone\u001b[39;49;00m\u001b[43m,\u001b[49m\n\u001b[1;32m    874\u001b[0m \u001b[43m        \u001b[49m\u001b[43mdisp\u001b[49m\u001b[38;5;241;43m=\u001b[39;49m\u001b[38;5;28;43;01mFalse\u001b[39;49;00m\u001b[43m,\u001b[49m\n\u001b[1;32m    875\u001b[0m \u001b[43m        \u001b[49m\u001b[43mpolish\u001b[49m\u001b[38;5;241;43m=\u001b[39;49m\u001b[38;5;28;43;01mTrue\u001b[39;49;00m\u001b[43m,\u001b[49m\n\u001b[1;32m    876\u001b[0m \u001b[43m        \u001b[49m\u001b[43minit\u001b[49m\u001b[38;5;241;43m=\u001b[39;49m\u001b[38;5;124;43m\"\u001b[39;49m\u001b[38;5;124;43mlatinhypercube\u001b[39;49m\u001b[38;5;124;43m\"\u001b[39;49m\u001b[43m,\u001b[49m\n\u001b[1;32m    877\u001b[0m \u001b[43m        \u001b[49m\u001b[43matol\u001b[49m\u001b[38;5;241;43m=\u001b[39;49m\u001b[38;5;241;43m1e-4\u001b[39;49m\u001b[43m,\u001b[49m\n\u001b[1;32m    878\u001b[0m \u001b[43m    \u001b[49m\u001b[43m)\u001b[49m\n\u001b[1;32m    879\u001b[0m \u001b[38;5;28;01melse\u001b[39;00m:\n\u001b[1;32m    880\u001b[0m     res \u001b[38;5;241m=\u001b[39m differential_evolution(min_function, bounds, \u001b[38;5;241m*\u001b[39m\u001b[38;5;241m*\u001b[39mkwargs)\n",
      "File \u001b[0;32m~/opt/anaconda3/lib/python3.9/site-packages/scipy/optimize/_differentialevolution.py:502\u001b[0m, in \u001b[0;36mdifferential_evolution\u001b[0;34m(func, bounds, args, strategy, maxiter, popsize, tol, mutation, recombination, seed, callback, disp, polish, init, atol, updating, workers, constraints, x0, integrality, vectorized)\u001b[0m\n\u001b[1;32m    485\u001b[0m \u001b[38;5;66;03m# using a context manager means that any created Pool objects are\u001b[39;00m\n\u001b[1;32m    486\u001b[0m \u001b[38;5;66;03m# cleared up.\u001b[39;00m\n\u001b[1;32m    487\u001b[0m \u001b[38;5;28;01mwith\u001b[39;00m DifferentialEvolutionSolver(func, bounds, args\u001b[38;5;241m=\u001b[39margs,\n\u001b[1;32m    488\u001b[0m                                  strategy\u001b[38;5;241m=\u001b[39mstrategy,\n\u001b[1;32m    489\u001b[0m                                  maxiter\u001b[38;5;241m=\u001b[39mmaxiter,\n\u001b[0;32m   (...)\u001b[0m\n\u001b[1;32m    500\u001b[0m                                  integrality\u001b[38;5;241m=\u001b[39mintegrality,\n\u001b[1;32m    501\u001b[0m                                  vectorized\u001b[38;5;241m=\u001b[39mvectorized) \u001b[38;5;28;01mas\u001b[39;00m solver:\n\u001b[0;32m--> 502\u001b[0m     ret \u001b[38;5;241m=\u001b[39m \u001b[43msolver\u001b[49m\u001b[38;5;241;43m.\u001b[39;49m\u001b[43msolve\u001b[49m\u001b[43m(\u001b[49m\u001b[43m)\u001b[49m\n\u001b[1;32m    504\u001b[0m \u001b[38;5;28;01mreturn\u001b[39;00m ret\n",
      "File \u001b[0;32m~/opt/anaconda3/lib/python3.9/site-packages/scipy/optimize/_differentialevolution.py:1164\u001b[0m, in \u001b[0;36mDifferentialEvolutionSolver.solve\u001b[0;34m(self)\u001b[0m\n\u001b[1;32m   1161\u001b[0m \u001b[38;5;28;01mfor\u001b[39;00m nit \u001b[38;5;129;01min\u001b[39;00m \u001b[38;5;28mrange\u001b[39m(\u001b[38;5;241m1\u001b[39m, \u001b[38;5;28mself\u001b[39m\u001b[38;5;241m.\u001b[39mmaxiter \u001b[38;5;241m+\u001b[39m \u001b[38;5;241m1\u001b[39m):\n\u001b[1;32m   1162\u001b[0m     \u001b[38;5;66;03m# evolve the population by a generation\u001b[39;00m\n\u001b[1;32m   1163\u001b[0m     \u001b[38;5;28;01mtry\u001b[39;00m:\n\u001b[0;32m-> 1164\u001b[0m         \u001b[38;5;28;43mnext\u001b[39;49m\u001b[43m(\u001b[49m\u001b[38;5;28;43mself\u001b[39;49m\u001b[43m)\u001b[49m\n\u001b[1;32m   1165\u001b[0m     \u001b[38;5;28;01mexcept\u001b[39;00m \u001b[38;5;167;01mStopIteration\u001b[39;00m:\n\u001b[1;32m   1166\u001b[0m         warning_flag \u001b[38;5;241m=\u001b[39m \u001b[38;5;28;01mTrue\u001b[39;00m\n",
      "File \u001b[0;32m~/opt/anaconda3/lib/python3.9/site-packages/scipy/optimize/_differentialevolution.py:1578\u001b[0m, in \u001b[0;36mDifferentialEvolutionSolver.__next__\u001b[0;34m(self)\u001b[0m\n\u001b[1;32m   1576\u001b[0m     feasible \u001b[38;5;241m=\u001b[39m \u001b[38;5;28;01mTrue\u001b[39;00m\n\u001b[1;32m   1577\u001b[0m     cv \u001b[38;5;241m=\u001b[39m np\u001b[38;5;241m.\u001b[39matleast_2d([\u001b[38;5;241m0.\u001b[39m])\n\u001b[0;32m-> 1578\u001b[0m     energy \u001b[38;5;241m=\u001b[39m \u001b[38;5;28;43mself\u001b[39;49m\u001b[38;5;241;43m.\u001b[39;49m\u001b[43mfunc\u001b[49m\u001b[43m(\u001b[49m\u001b[43mparameters\u001b[49m\u001b[43m)\u001b[49m\n\u001b[1;32m   1579\u001b[0m     \u001b[38;5;28mself\u001b[39m\u001b[38;5;241m.\u001b[39m_nfev \u001b[38;5;241m+\u001b[39m\u001b[38;5;241m=\u001b[39m \u001b[38;5;241m1\u001b[39m\n\u001b[1;32m   1581\u001b[0m \u001b[38;5;66;03m# compare trial and population member\u001b[39;00m\n",
      "File \u001b[0;32m~/opt/anaconda3/lib/python3.9/site-packages/scipy/_lib/_util.py:441\u001b[0m, in \u001b[0;36m_FunctionWrapper.__call__\u001b[0;34m(self, x)\u001b[0m\n\u001b[1;32m    440\u001b[0m \u001b[38;5;28;01mdef\u001b[39;00m \u001b[38;5;21m__call__\u001b[39m(\u001b[38;5;28mself\u001b[39m, x):\n\u001b[0;32m--> 441\u001b[0m     \u001b[38;5;28;01mreturn\u001b[39;00m \u001b[38;5;28;43mself\u001b[39;49m\u001b[38;5;241;43m.\u001b[39;49m\u001b[43mf\u001b[49m\u001b[43m(\u001b[49m\u001b[43mx\u001b[49m\u001b[43m,\u001b[49m\u001b[43m \u001b[49m\u001b[38;5;241;43m*\u001b[39;49m\u001b[38;5;28;43mself\u001b[39;49m\u001b[38;5;241;43m.\u001b[39;49m\u001b[43margs\u001b[49m\u001b[43m)\u001b[49m\n",
      "File \u001b[0;32m~/opt/anaconda3/lib/python3.9/site-packages/pwlf/pwlf.py:672\u001b[0m, in \u001b[0;36mPiecewiseLinFit.fit_with_breaks_opt\u001b[0;34m(self, var)\u001b[0m\n\u001b[1;32m    669\u001b[0m \u001b[38;5;66;03m# try to solve the regression problem\u001b[39;00m\n\u001b[1;32m    670\u001b[0m \u001b[38;5;28;01mtry\u001b[39;00m:\n\u001b[1;32m    671\u001b[0m     \u001b[38;5;66;03m# least squares solver\u001b[39;00m\n\u001b[0;32m--> 672\u001b[0m     ssr \u001b[38;5;241m=\u001b[39m \u001b[38;5;28;43mself\u001b[39;49m\u001b[38;5;241;43m.\u001b[39;49m\u001b[43mlstsq\u001b[49m\u001b[43m(\u001b[49m\u001b[43mA\u001b[49m\u001b[43m,\u001b[49m\u001b[43m \u001b[49m\u001b[43mcalc_slopes\u001b[49m\u001b[38;5;241;43m=\u001b[39;49m\u001b[38;5;28;43;01mFalse\u001b[39;49;00m\u001b[43m)\u001b[49m\n\u001b[1;32m    674\u001b[0m \u001b[38;5;28;01mexcept\u001b[39;00m linalg\u001b[38;5;241m.\u001b[39mLinAlgError:\n\u001b[1;32m    675\u001b[0m     \u001b[38;5;66;03m# the computation could not converge!\u001b[39;00m\n\u001b[1;32m    676\u001b[0m     \u001b[38;5;66;03m# on an error, return ssr = np.inf\u001b[39;00m\n\u001b[1;32m    677\u001b[0m     \u001b[38;5;66;03m# You might have a singular Matrix!!!\u001b[39;00m\n\u001b[1;32m    678\u001b[0m     ssr \u001b[38;5;241m=\u001b[39m np\u001b[38;5;241m.\u001b[39minf\n",
      "File \u001b[0;32m~/opt/anaconda3/lib/python3.9/site-packages/pwlf/pwlf.py:1641\u001b[0m, in \u001b[0;36mPiecewiseLinFit.lstsq\u001b[0;34m(self, A, calc_slopes)\u001b[0m\n\u001b[1;32m   1628\u001b[0m \u001b[38;5;250m\u001b[39m\u001b[38;5;124mr\u001b[39m\u001b[38;5;124;03m\"\"\"\u001b[39;00m\n\u001b[1;32m   1629\u001b[0m \u001b[38;5;124;03mPerform the least squares fit for A matrix.\u001b[39;00m\n\u001b[1;32m   1630\u001b[0m \n\u001b[0;32m   (...)\u001b[0m\n\u001b[1;32m   1638\u001b[0m \u001b[38;5;124;03m    calc_slopes=True.\u001b[39;00m\n\u001b[1;32m   1639\u001b[0m \u001b[38;5;124;03m\"\"\"\u001b[39;00m\n\u001b[1;32m   1640\u001b[0m \u001b[38;5;28;01mif\u001b[39;00m \u001b[38;5;28mself\u001b[39m\u001b[38;5;241m.\u001b[39mweights \u001b[38;5;129;01mis\u001b[39;00m \u001b[38;5;28;01mNone\u001b[39;00m:\n\u001b[0;32m-> 1641\u001b[0m     beta, ssr, _, _ \u001b[38;5;241m=\u001b[39m \u001b[43mlinalg\u001b[49m\u001b[38;5;241;43m.\u001b[39;49m\u001b[43mlstsq\u001b[49m\u001b[43m(\u001b[49m\n\u001b[1;32m   1642\u001b[0m \u001b[43m        \u001b[49m\u001b[43mA\u001b[49m\u001b[43m,\u001b[49m\u001b[43m \u001b[49m\u001b[38;5;28;43mself\u001b[39;49m\u001b[38;5;241;43m.\u001b[39;49m\u001b[43my_data\u001b[49m\u001b[43m,\u001b[49m\u001b[43m \u001b[49m\u001b[43mlapack_driver\u001b[49m\u001b[38;5;241;43m=\u001b[39;49m\u001b[38;5;28;43mself\u001b[39;49m\u001b[38;5;241;43m.\u001b[39;49m\u001b[43mlapack_driver\u001b[49m\n\u001b[1;32m   1643\u001b[0m \u001b[43m    \u001b[49m\u001b[43m)\u001b[49m\n\u001b[1;32m   1644\u001b[0m     \u001b[38;5;66;03m# ssr is only calculated if self.n_data > self.n_parameters\u001b[39;00m\n\u001b[1;32m   1645\u001b[0m     \u001b[38;5;66;03m# in this case I'll need to calculate ssr manually\u001b[39;00m\n\u001b[1;32m   1646\u001b[0m     \u001b[38;5;66;03m# where ssr = sum of square of residuals\u001b[39;00m\n\u001b[1;32m   1647\u001b[0m     \u001b[38;5;28;01mif\u001b[39;00m \u001b[38;5;28mself\u001b[39m\u001b[38;5;241m.\u001b[39mn_data \u001b[38;5;241m<\u001b[39m\u001b[38;5;241m=\u001b[39m \u001b[38;5;28mself\u001b[39m\u001b[38;5;241m.\u001b[39mn_parameters:\n",
      "File \u001b[0;32m~/opt/anaconda3/lib/python3.9/site-packages/scipy/linalg/_basic.py:1269\u001b[0m, in \u001b[0;36mlstsq\u001b[0;34m(a, b, cond, overwrite_a, overwrite_b, check_finite, lapack_driver)\u001b[0m\n\u001b[1;32m   1267\u001b[0m \u001b[38;5;28;01melif\u001b[39;00m driver \u001b[38;5;241m==\u001b[39m \u001b[38;5;124m'\u001b[39m\u001b[38;5;124mgelsd\u001b[39m\u001b[38;5;124m'\u001b[39m:\n\u001b[1;32m   1268\u001b[0m     \u001b[38;5;28;01mif\u001b[39;00m real_data:\n\u001b[0;32m-> 1269\u001b[0m         lwork, iwork \u001b[38;5;241m=\u001b[39m \u001b[43m_compute_lwork\u001b[49m\u001b[43m(\u001b[49m\u001b[43mlapack_lwork\u001b[49m\u001b[43m,\u001b[49m\u001b[43m \u001b[49m\u001b[43mm\u001b[49m\u001b[43m,\u001b[49m\u001b[43m \u001b[49m\u001b[43mn\u001b[49m\u001b[43m,\u001b[49m\u001b[43m \u001b[49m\u001b[43mnrhs\u001b[49m\u001b[43m,\u001b[49m\u001b[43m \u001b[49m\u001b[43mcond\u001b[49m\u001b[43m)\u001b[49m\n\u001b[1;32m   1270\u001b[0m         x, s, rank, info \u001b[38;5;241m=\u001b[39m lapack_func(a1, b1, lwork,\n\u001b[1;32m   1271\u001b[0m                                        iwork, cond, \u001b[38;5;28;01mFalse\u001b[39;00m, \u001b[38;5;28;01mFalse\u001b[39;00m)\n\u001b[1;32m   1272\u001b[0m     \u001b[38;5;28;01melse\u001b[39;00m:  \u001b[38;5;66;03m# complex data\u001b[39;00m\n",
      "File \u001b[0;32m~/opt/anaconda3/lib/python3.9/site-packages/scipy/linalg/lapack.py:1005\u001b[0m, in \u001b[0;36m_compute_lwork\u001b[0;34m(routine, *args, **kwargs)\u001b[0m\n\u001b[1;32m   1003\u001b[0m dtype \u001b[38;5;241m=\u001b[39m \u001b[38;5;28mgetattr\u001b[39m(routine, \u001b[38;5;124m'\u001b[39m\u001b[38;5;124mdtype\u001b[39m\u001b[38;5;124m'\u001b[39m, \u001b[38;5;28;01mNone\u001b[39;00m)\n\u001b[1;32m   1004\u001b[0m int_dtype \u001b[38;5;241m=\u001b[39m \u001b[38;5;28mgetattr\u001b[39m(routine, \u001b[38;5;124m'\u001b[39m\u001b[38;5;124mint_dtype\u001b[39m\u001b[38;5;124m'\u001b[39m, \u001b[38;5;28;01mNone\u001b[39;00m)\n\u001b[0;32m-> 1005\u001b[0m ret \u001b[38;5;241m=\u001b[39m \u001b[43mroutine\u001b[49m\u001b[43m(\u001b[49m\u001b[38;5;241;43m*\u001b[39;49m\u001b[43margs\u001b[49m\u001b[43m,\u001b[49m\u001b[43m \u001b[49m\u001b[38;5;241;43m*\u001b[39;49m\u001b[38;5;241;43m*\u001b[39;49m\u001b[43mkwargs\u001b[49m\u001b[43m)\u001b[49m\n\u001b[1;32m   1006\u001b[0m \u001b[38;5;28;01mif\u001b[39;00m ret[\u001b[38;5;241m-\u001b[39m\u001b[38;5;241m1\u001b[39m] \u001b[38;5;241m!=\u001b[39m \u001b[38;5;241m0\u001b[39m:\n\u001b[1;32m   1007\u001b[0m     \u001b[38;5;28;01mraise\u001b[39;00m \u001b[38;5;167;01mValueError\u001b[39;00m(\u001b[38;5;124m\"\u001b[39m\u001b[38;5;124mInternal work array size computation failed: \u001b[39m\u001b[38;5;124m\"\u001b[39m\n\u001b[1;32m   1008\u001b[0m                      \u001b[38;5;124m\"\u001b[39m\u001b[38;5;132;01m%d\u001b[39;00m\u001b[38;5;124m\"\u001b[39m \u001b[38;5;241m%\u001b[39m (ret[\u001b[38;5;241m-\u001b[39m\u001b[38;5;241m1\u001b[39m],))\n",
      "\u001b[0;31mKeyboardInterrupt\u001b[0m: "
     ]
    }
   ],
   "source": [
    "results = evaluate_all_segments(x, y, min_m=2, max_m=15, criterion=select_criterion,is_fast=False)"
   ]
  },
  {
   "cell_type": "code",
   "execution_count": null,
   "id": "f33f5d26",
   "metadata": {},
   "outputs": [],
   "source": [
    "# Extract the \"best\" result (with chosen m)\n",
    "best_result = results['best']\n",
    "\n",
    "# Get the breakpoints array\n",
    "breakpoints = best_result['breaks']\n",
    "\n",
    "print(\"Breakpoints as array:\", breakpoints)\n",
    "print(\"Breakpoints as Python list:\", breakpoints.tolist())"
   ]
  },
  {
   "cell_type": "code",
   "execution_count": null,
   "id": "fbb10394",
   "metadata": {},
   "outputs": [],
   "source": [
    "plt.figure(figsize=(12, 5))\n",
    "plt.scatter(x, y, s=8, label='raw')\n",
    "\n",
    "requested_segments = len(breakpoints) - 1\n",
    "\n",
    "for i in range(len(breakpoints) - 1):\n",
    "    x0, x1 = breakpoints[i], breakpoints[i+1]\n",
    "    mask = (x >= x0) & ((x < x1) if i < len(breakpoints)-2 else (x <= x1))\n",
    "    Xi, Yi = x[mask], y[mask]\n",
    "\n",
    "    if Xi.size >= 2:\n",
    "        X1 = np.vstack([np.ones_like(Xi), Xi]).T\n",
    "        beta, *_ = np.linalg.lstsq(X1, Yi, rcond=None)\n",
    "        a, b = beta\n",
    "        xs = np.linspace(x0, x1, 200)\n",
    "        ys = a + b*xs\n",
    "    elif Xi.size == 1:\n",
    "        xs = np.linspace(x0, x1, 200)\n",
    "        ys = np.full_like(xs, Yi.item())\n",
    "    else:\n",
    "        xs = np.linspace(x0, x1, 200)\n",
    "        ys = np.full_like(xs, y.mean())\n",
    "    \n",
    "    plt.plot(xs, ys, linewidth=2, label='piecewise fit' if i==0 else None)\n",
    "\n",
    "# --- draw vertical lines and annotate breakpoints ---\n",
    "for j, bp in enumerate(breakpoints):\n",
    "    plt.axvline(bp, linestyle='--', alpha=0.3)\n",
    "    # mark point on axis\n",
    "    plt.scatter(bp, np.interp(bp, x, y), color='red', zorder=5)\n",
    "    # label\n",
    "    plt.text(bp, plt.ylim()[1]*0.95, f'BP{j+1}', rotation=90,\n",
    "             va='top', ha='center', fontsize=8, color='red')\n",
    "\n",
    "plt.title(f'Piecewise linear fit using your pwlf breakpoints ({requested_segments} segments)')\n",
    "plt.xlabel('accumulative complexity')\n",
    "plt.ylabel('complexity')\n",
    "plt.grid(True, linestyle='--', alpha=0.5)\n",
    "plt.legend()\n",
    "plt.show()\n"
   ]
  }
 ],
 "metadata": {
  "kernelspec": {
   "display_name": "Python 3 (ipykernel)",
   "language": "python",
   "name": "python3"
  },
  "language_info": {
   "codemirror_mode": {
    "name": "ipython",
    "version": 3
   },
   "file_extension": ".py",
   "mimetype": "text/x-python",
   "name": "python",
   "nbconvert_exporter": "python",
   "pygments_lexer": "ipython3",
   "version": "3.9.12"
  }
 },
 "nbformat": 4,
 "nbformat_minor": 5
}
