{
 "cells": [
  {
   "cell_type": "code",
   "execution_count": 1,
   "id": "a43b7b9c",
   "metadata": {},
   "outputs": [],
   "source": [
    "import numpy as np\n",
    "import pwlf\n",
    "from sklearn.model_selection import KFold\n",
    "from sklearn.metrics import mean_squared_error, mean_absolute_error\n",
    "\n",
    "import numpy as np\n",
    "import matplotlib.pyplot as plt\n",
    "import pandas as pd"
   ]
  },
  {
   "cell_type": "code",
   "execution_count": 2,
   "id": "f4e14338",
   "metadata": {},
   "outputs": [],
   "source": [
    "input_file = \"input_file/bootstrap.csv\" #Input data \n",
    "criterion_set = [\"BIC\",\"AIC\",\"CV_MSE\",\"R2_adj\"]\n",
    "select_criterion = criterion_set[0]"
   ]
  },
  {
   "cell_type": "code",
   "execution_count": 3,
   "id": "48c6a57c",
   "metadata": {},
   "outputs": [],
   "source": [
    "df_composer = pd.read_csv(input_file)\n",
    "# Prepare the data for pwlf\n",
    "x = df_composer['accumulative_raw'].values\n",
    "y = df_composer['complexity_raw'].values"
   ]
  },
  {
   "cell_type": "markdown",
   "id": "fc63361a",
   "metadata": {},
   "source": [
    "### fit model and return the metrics"
   ]
  },
  {
   "cell_type": "code",
   "execution_count": 4,
   "id": "2a2e3534",
   "metadata": {},
   "outputs": [],
   "source": [
    "def fit_model(X, Y, m, cv_splits=5, random_state=42, is_fast=False):\n",
    "    \"\"\"拟合 m 段并计算各类指标\"\"\"\n",
    "    mdl = pwlf.PiecewiseLinFit(X, Y)\n",
    "    if is_fast == False:\n",
    "        breaks = mdl.fit(m) \n",
    "    else: \n",
    "        breaks = mdl.fastfit(m) \n",
    "    y_hat = mdl.predict(X)\n",
    "\n",
    "    n   = len(Y)\n",
    "    rss = float(np.sum((Y - y_hat)**2))\n",
    "    mse = rss / n \n",
    "    mae = float(mean_absolute_error(Y, y_hat)) #Mean Absolut Error \n",
    "    tss = float(np.sum((Y - np.mean(Y))**2)) #Total Sum of Squares, TSS\n",
    "    r2  = 1 - rss / tss if tss > 0 else np.nan\n",
    "\n",
    "    # 参数个数惩罚：常用近似 k = 2*m（斜率/截距 + 断点自由度）\n",
    "    k   = 2 * m\n",
    "    aic = n * np.log(mse) + 2 * k #在保证模型拟合数据的同时，尽量避免模型过于复杂（overfitting）。\n",
    "    bic = n * np.log(mse) + k * np.log(n) #在拟合效果和模型复杂度之间做权衡，但 比 AIC 惩罚更严格。\n",
    "    r2_adj = 1 - ((rss/(n - k)) / (tss/(n - 1))) if (n - k) > 0 and (tss > 0) else np.nan\n",
    "\n",
    "    # 交叉验证 MSE\n",
    "    kf = KFold(n_splits=cv_splits, shuffle=True, random_state=random_state)\n",
    "    cv_mses = []\n",
    "    for tr, te in kf.split(X):\n",
    "        Xtr, Ytr = X[tr], Y[tr]\n",
    "        Xte, Yte = X[te], Y[te]\n",
    "        mdl_cv = pwlf.PiecewiseLinFit(Xtr, Ytr)\n",
    "        mdl_cv.fit(m)\n",
    "        Ypred = mdl_cv.predict(Xte)\n",
    "        cv_mses.append(mean_squared_error(Yte, Ypred))\n",
    "    cv_mse = float(np.mean(cv_mses))\n",
    "\n",
    "    return {\n",
    "        \"m\": m,\n",
    "        \"breaks\": breaks,\n",
    "        \"train_MSE\": mse,\n",
    "        \"train_MAE\": mae,\n",
    "        \"R2\": r2,\n",
    "        \"R2_adj\": r2_adj,\n",
    "        \"AIC\": aic,\n",
    "        \"BIC\": bic,\n",
    "        \"CV_MSE\": cv_mse,\n",
    "    }"
   ]
  },
  {
   "cell_type": "markdown",
   "id": "db3e1c85",
   "metadata": {},
   "source": [
    "### Evaluate the segments have the best metrics"
   ]
  },
  {
   "cell_type": "code",
   "execution_count": 5,
   "id": "dffd2603",
   "metadata": {},
   "outputs": [],
   "source": [
    "def evaluate_all_segments(X, Y, min_m=2, max_m=40, criterion=\"BIC\",\n",
    "                          cv_splits=5, random_state=42, early_stop=True, is_fast = False):\n",
    "    \"\"\"\n",
    "    遍历分段数，返回每个 m 的指标，并根据 criterion 选最佳。\n",
    "    criterion ∈ {\"BIC\",\"AIC\",\"CV_MSE\",\"R2_adj\"}（BIC 越小越好；R2_adj 越大越好）\n",
    "    \"\"\"\n",
    "    X = np.asarray(X).reshape(-1)\n",
    "    Y = np.asarray(Y).reshape(-1)\n",
    "    n = len(Y)\n",
    "\n",
    "    # 基本可行性限制：至少保证每段有≥2个点（保守些）\n",
    "    max_feasible = max(min(max_m, n // 2), min_m)\n",
    "    ms = list(range(min_m, max_feasible + 1))\n",
    "\n",
    "    results = []\n",
    "    for m in ms:\n",
    "        try:\n",
    "            res = fit_model(X, Y, m, cv_splits=cv_splits, random_state=random_state, is_fast = is_fast)\n",
    "            results.append(res)\n",
    "        except Exception as e:\n",
    "            # 若某些 m 因数据分布问题无法拟合，跳过\n",
    "            results.append({\"m\": m, \"error\": str(e)})\n",
    "\n",
    "        # 简单的提前停止：如果 BIC 相比上一段明显变差且连续两次上升，可提前结束\n",
    "        if early_stop and criterion.upper() == \"BIC\" and len(results) >= 3:\n",
    "            last_three = [r for r in results[-3:] if \"BIC\" in r]\n",
    "            if len(last_three) == 3:\n",
    "                if last_three[2][\"BIC\"] > last_three[1][\"BIC\"] > last_three[0][\"BIC\"]:\n",
    "                    break\n",
    "\n",
    "    # 选最优\n",
    "    valid = [r for r in results if \"error\" not in r]\n",
    "    if not valid:\n",
    "        raise RuntimeError(\"没有成功的拟合结果，请检查数据或放宽可行范围。\")\n",
    "\n",
    "    crit = criterion.upper()\n",
    "\n",
    "    if crit in (\"BIC\", \"AIC\", \"CV_MSE\"):\n",
    "        key = crit\n",
    "        best = min(valid, key=lambda r: r[key])\n",
    "    elif crit == \"R2_ADJ\":\n",
    "        key = \"R2_adj\"\n",
    "        best = max(valid, key=lambda r: (r[key] if r[key] is not np.nan else -np.inf))\n",
    "    else:\n",
    "        raise ValueError(\"criterion should be one of BIC / AIC / CV_MSE / R2_adj\")\n",
    "\n",
    "    # 打印摘要\n",
    "    print(\"=== Summary ===\")\n",
    "    for r in valid:\n",
    "        print(f\"m={r['m']:>2} | BIC={r['BIC']:.3f} | AIC={r['AIC']:.3f} | \"\n",
    "              f\"CV_MSE={r['CV_MSE']:.6f} | R2_adj={r['R2_adj']:.4f} | \"\n",
    "              f\"MSE={r['train_MSE']:.6f} | MAE={r['train_MAE']:.6f} | \"\n",
    "              f\"breaks={np.round(r['breaks'],3)}\")\n",
    "\n",
    "    print(f\"\\n✅ Best by {criterion}: m={best['m']}, breaks={np.round(best['breaks'], 6)}\")\n",
    "    return {\"all\": results, \"best\": best}\n"
   ]
  },
  {
   "cell_type": "code",
   "execution_count": 6,
   "id": "2b28201b",
   "metadata": {},
   "outputs": [],
   "source": [
    "# Prepare the data for pwlf\n",
    "x = df_composer['accumulative_raw'].values\n",
    "y = df_composer['complexity_raw'].values"
   ]
  },
  {
   "cell_type": "code",
   "execution_count": 7,
   "id": "0db08073",
   "metadata": {},
   "outputs": [
    {
     "name": "stdout",
     "output_type": "stream",
     "text": [
      "=== Summary ===\n",
      "m= 2 | BIC=2195.289 | AIC=2180.955 | CV_MSE=3566.909429 | R2_adj=0.3684 | MSE=3529.821131 | MAE=50.854867 | breaks=[7.020000e+00 1.431515e+04 2.225511e+04]\n",
      "m= 3 | BIC=1971.165 | AIC=1949.664 | CV_MSE=1580.181481 | R2_adj=0.7372 | MSE=1457.461044 | MAE=25.072864 | breaks=[7.0200000e+00 1.3857193e+04 1.3858301e+04 2.2255110e+04]\n",
      "m= 4 | BIC=1937.111 | AIC=1908.443 | CV_MSE=1410.907799 | R2_adj=0.7766 | MSE=1229.601810 | MAE=23.507562 | breaks=[7.0200000e+00 1.3857189e+04 1.3858442e+04 1.5223348e+04 2.2255110e+04]\n",
      "m= 5 | BIC=1910.310 | AIC=1874.475 | CV_MSE=1354.545731 | R2_adj=0.8048 | MSE=1066.043871 | MAE=23.084780 | breaks=[7.0200000e+00 1.3651623e+04 1.3898960e+04 1.6200555e+04 1.7051310e+04\n",
      " 2.2255110e+04]\n",
      "m= 6 | BIC=1866.202 | AIC=1823.200 | CV_MSE=1179.142572 | R2_adj=0.8402 | MSE=866.021459 | MAE=18.642069 | breaks=[7.0200000e+00 1.3857255e+04 1.3858048e+04 1.4410760e+04 1.4987546e+04\n",
      " 1.7249852e+04 2.2255110e+04]\n",
      "m= 7 | BIC=1853.465 | AIC=1803.296 | CV_MSE=1117.219122 | R2_adj=0.8527 | MSE=791.591605 | MAE=16.714615 | breaks=[7.0200000e+00 9.5742800e+03 1.3857606e+04 1.3857835e+04 1.4409804e+04\n",
      " 1.4988896e+04 1.7245719e+04 2.2255110e+04]\n",
      "m= 8 | BIC=1839.750 | AIC=1782.414 | CV_MSE=1113.713208 | R2_adj=0.8648 | MSE=720.903225 | MAE=15.091234 | breaks=[7.0200000e+00 9.5828430e+03 1.3857409e+04 1.3857711e+04 1.4406370e+04\n",
      " 1.5010816e+04 1.7497352e+04 1.7586534e+04 2.2255110e+04]\n",
      "m= 9 | BIC=1821.306 | AIC=1756.803 | CV_MSE=993.866405 | R2_adj=0.8781 | MSE=644.957078 | MAE=13.251704 | breaks=[7.0200000e+00 9.5780220e+03 1.3858132e+04 1.3858317e+04 1.4407703e+04\n",
      " 1.4902589e+04 1.7037547e+04 1.7041154e+04 1.9216601e+04 2.2255110e+04]\n",
      "m=10 | BIC=1833.381 | AIC=1761.711 | CV_MSE=225434298.021656 | R2_adj=0.8767 | MSE=647.162907 | MAE=13.397008 | breaks=[7.0200000e+00 9.5949420e+03 1.3706284e+04 1.3779034e+04 1.3857773e+04\n",
      " 1.4476717e+04 1.4486970e+04 1.7035713e+04 1.7040666e+04 1.9228938e+04\n",
      " 2.2255110e+04]\n",
      "m=11 | BIC=1865.081 | AIC=1786.244 | CV_MSE=1154.261249 | R2_adj=0.8657 | MSE=699.097185 | MAE=15.227156 | breaks=[7.0200000e+00 1.0312360e+03 6.3773280e+03 1.3857313e+04 1.3858388e+04\n",
      " 1.4411660e+04 1.4946290e+04 1.5736010e+04 1.6534634e+04 1.7200412e+04\n",
      " 1.9009565e+04 2.2255110e+04]\n",
      "\n",
      "✅ Best by BIC: m=9, breaks=[7.02000000e+00 9.57802152e+03 1.38581318e+04 1.38583171e+04\n",
      " 1.44077031e+04 1.49025888e+04 1.70375475e+04 1.70411544e+04\n",
      " 1.92166014e+04 2.22551100e+04]\n"
     ]
    }
   ],
   "source": [
    "results = evaluate_all_segments(x, y, min_m=2, max_m=15, criterion=select_criterion,is_fast=False)"
   ]
  },
  {
   "cell_type": "code",
   "execution_count": 8,
   "id": "f33f5d26",
   "metadata": {},
   "outputs": [
    {
     "name": "stdout",
     "output_type": "stream",
     "text": [
      "Breakpoints as array: [7.02000000e+00 9.57802152e+03 1.38581318e+04 1.38583171e+04\n",
      " 1.44077031e+04 1.49025888e+04 1.70375475e+04 1.70411544e+04\n",
      " 1.92166014e+04 2.22551100e+04]\n",
      "Breakpoints as Python list: [7.02, 9578.021516209245, 13858.131809907358, 13858.317054906542, 14407.703116111961, 14902.588775369415, 17037.54749736356, 17041.154439398288, 19216.601442696436, 22255.10999999997]\n"
     ]
    }
   ],
   "source": [
    "# Extract the \"best\" result (with chosen m)\n",
    "best_result = results['best']\n",
    "\n",
    "# Get the breakpoints array\n",
    "breakpoints = best_result['breaks']\n",
    "\n",
    "print(\"Breakpoints as array:\", breakpoints)\n",
    "print(\"Breakpoints as Python list:\", breakpoints.tolist())"
   ]
  },
  {
   "cell_type": "code",
   "execution_count": 9,
   "id": "fbb10394",
   "metadata": {},
   "outputs": [
    {
     "data": {
      "image/png": "[encoded data removed]",
      "text/plain": [
       "<Figure size 864x360 with 1 Axes>"
      ]
     },
     "metadata": {
      "needs_background": "light"
     },
     "output_type": "display_data"
    }
   ],
   "source": [
    "plt.figure(figsize=(12, 5))\n",
    "plt.scatter(x, y, s=8, label='raw')\n",
    "\n",
    "requested_segments = len(breakpoints) - 1\n",
    "\n",
    "for i in range(len(breakpoints) - 1):\n",
    "    x0, x1 = breakpoints[i], breakpoints[i+1]\n",
    "    mask = (x >= x0) & ((x < x1) if i < len(breakpoints)-2 else (x <= x1))\n",
    "    Xi, Yi = x[mask], y[mask]\n",
    "\n",
    "    if Xi.size >= 2:\n",
    "        X1 = np.vstack([np.ones_like(Xi), Xi]).T\n",
    "        beta, *_ = np.linalg.lstsq(X1, Yi, rcond=None)\n",
    "        a, b = beta\n",
    "        xs = np.linspace(x0, x1, 200)\n",
    "        ys = a + b*xs\n",
    "    elif Xi.size == 1:\n",
    "        xs = np.linspace(x0, x1, 200)\n",
    "        ys = np.full_like(xs, Yi.item())\n",
    "    else:\n",
    "        xs = np.linspace(x0, x1, 200)\n",
    "        ys = np.full_like(xs, y.mean())\n",
    "    \n",
    "    plt.plot(xs, ys, linewidth=2, label='piecewise fit' if i==0 else None)\n",
    "\n",
    "# --- draw vertical lines and annotate breakpoints ---\n",
    "for j, bp in enumerate(breakpoints):\n",
    "    plt.axvline(bp, linestyle='--', alpha=0.3)\n",
    "    # mark point on axis\n",
    "    plt.scatter(bp, np.interp(bp, x, y), color='red', zorder=5)\n",
    "    # label\n",
    "    plt.text(bp, plt.ylim()[1]*0.95, f'BP{j+1}', rotation=90,\n",
    "             va='top', ha='center', fontsize=8, color='red')\n",
    "\n",
    "plt.title(f'Piecewise linear fit using your pwlf breakpoints ({requested_segments} segments)')\n",
    "plt.xlabel('accumulative complexity')\n",
    "plt.ylabel('complexity')\n",
    "plt.grid(True, linestyle='--', alpha=0.5)\n",
    "plt.legend()\n",
    "plt.show()\n"
   ]
  }
 ],
 "metadata": {
  "kernelspec": {
   "display_name": "Python 3 (ipykernel)",
   "language": "python",
   "name": "python3"
  },
  "language_info": {
   "codemirror_mode": {
    "name": "ipython",
    "version": 3
   },
   "file_extension": ".py",
   "mimetype": "text/x-python",
   "name": "python",
   "nbconvert_exporter": "python",
   "pygments_lexer": "ipython3",
   "version": "3.9.12"
  }
 },
 "nbformat": 4,
 "nbformat_minor": 5
}
