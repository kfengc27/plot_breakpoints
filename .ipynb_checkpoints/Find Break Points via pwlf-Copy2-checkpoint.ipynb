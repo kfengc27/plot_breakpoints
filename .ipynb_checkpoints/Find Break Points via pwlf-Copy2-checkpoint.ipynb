{
 "cells": [
  {
   "cell_type": "code",
   "execution_count": 1,
   "id": "7176f1c0",
   "metadata": {},
   "outputs": [],
   "source": [
    "### find breakpoints"
   ]
  },
  {
   "cell_type": "code",
   "execution_count": null,
   "id": "b71a4107",
   "metadata": {},
   "outputs": [],
   "source": [
    "import pandas as pd\n",
    "import pwlf\n",
    "import numpy as np\n",
    "import matplotlib.pyplot as plt"
   ]
  },
  {
   "cell_type": "code",
   "execution_count": null,
   "id": "f5d04a64",
   "metadata": {},
   "outputs": [],
   "source": [
    "df_composer = pd.read_csv(\"complexity and accumulation for cakephp_15segments_RMSE\")"
   ]
  },
  {
   "cell_type": "code",
   "execution_count": null,
   "id": "108da312",
   "metadata": {},
   "outputs": [],
   "source": [
    "# Prepare the data for pwlf\n",
    "x = df_composer['accumulative_raw'].values\n",
    "y = df_composer['complexity_raw'].values"
   ]
  },
  {
   "cell_type": "code",
   "execution_count": null,
   "id": "cdece3f3",
   "metadata": {},
   "outputs": [],
   "source": [
    "# Fit piecewise linear model with a chosen number of segments\n",
    "my_pwlf = pwlf.PiecewiseLinFit(x, y)\n",
    "num_segments = 30\n",
    "breakpoints = my_pwlf.fitfast(num_segments)\n",
    "\n",
    "breakpoints"
   ]
  },
  {
   "cell_type": "code",
   "execution_count": null,
   "id": "46a97e20",
   "metadata": {},
   "outputs": [],
   "source": [
    "my_pwlf.fit_with_breaks(breakpoints)"
   ]
  },
  {
   "cell_type": "code",
   "execution_count": null,
   "id": "fe5ba7df",
   "metadata": {},
   "outputs": [],
   "source": [
    "### plot the graph "
   ]
  },
  {
   "cell_type": "code",
   "execution_count": null,
   "id": "d56ce4c3",
   "metadata": {},
   "outputs": [],
   "source": [
    "# Plot raw data\n",
    "plt.figure(figsize=(12,5))\n",
    "plt.scatter(x, y, s=8, label='raw')\n",
    "\n",
    "# For each segment, fit a simple linear model on points within breakpoint interval and plot the line\n",
    "for i in range(len(breakpoints)-1):\n",
    "    x0, x1 = breakpoints[i], breakpoints[i+1]\n",
    "    mask = (x >= x0) & (x <= x1)\n",
    "    if mask.sum() < 2:\n",
    "        continue\n",
    "    Xi = x[mask]\n",
    "    Yi = y[mask]\n",
    "    X1 = np.vstack([np.ones_like(Xi), Xi]).T\n",
    "    beta, *_ = np.linalg.lstsq(X1, Yi, rcond=None)\n",
    "    a, b = beta[0], beta[1]\n",
    "    xs = np.linspace(Xi.min(), Xi.max(), 200)\n",
    "    ys = a + b*xs\n",
    "    plt.plot(xs, ys, linewidth=2, label=f'segment {i+1}' if i==0 else None)\n",
    "\n",
    "# draw vertical lines at breakpoints (except first & last if out of range)\n",
    "for bp in breakpoints[1:-1]:\n",
    "    plt.axvline(bp, linestyle='--', alpha=0.3)\n",
    "\n",
    "plt.title('Piecewise linear fit using your pwlf breakpoints %s segments)' %(str(num_segments)))\n",
    "plt.xlabel('accumulative complexity')\n",
    "plt.ylabel('complexity')\n",
    "plt.grid(True, linestyle='--', alpha=0.5)\n",
    "plt.legend()\n",
    "plt.show()"
   ]
  },
  {
   "cell_type": "code",
   "execution_count": null,
   "id": "40374c16",
   "metadata": {},
   "outputs": [],
   "source": []
  }
 ],
 "metadata": {
  "kernelspec": {
   "display_name": "Python 3 (ipykernel)",
   "language": "python",
   "name": "python3"
  },
  "language_info": {
   "codemirror_mode": {
    "name": "ipython",
    "version": 3
   },
   "file_extension": ".py",
   "mimetype": "text/x-python",
   "name": "python",
   "nbconvert_exporter": "python",
   "pygments_lexer": "ipython3",
   "version": "3.9.12"
  }
 },
 "nbformat": 4,
 "nbformat_minor": 5
}
